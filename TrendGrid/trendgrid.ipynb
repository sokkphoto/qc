{
 "cells": [
  {
   "cell_type": "code",
   "execution_count": 28,
   "metadata": {},
   "outputs": [
    {
     "name": "stdout",
     "output_type": "stream",
     "text": [
      "5\n",
      "6\n"
     ]
    }
   ],
   "source": [
    "grid2 = {1: 4.0, \n",
    "    2: 5.0,\n",
    "    3: 6.0}\n",
    "\n",
    "grid = [4, 5, 6]\n",
    "\n",
    "print(grid[1])\n",
    "\n",
    "price = 5.5\n",
    "\n",
    "print(max(grid))\n"
   ]
  },
  {
   "cell_type": "code",
   "execution_count": 31,
   "metadata": {},
   "outputs": [
    {
     "name": "stdout",
     "output_type": "stream",
     "text": [
      "[1.5, 1.502, 1.504, 1.506, 1.508, 1.51]\n"
     ]
    }
   ],
   "source": [
    "price = 1.5000\n",
    "\n",
    "def createGrid(fromPrice, lines, spacing, direction):\n",
    "    grid = []\n",
    "    i = 0\n",
    "    while i <= lines:\n",
    "        if direction > 0:\n",
    "            newLine = fromPrice + (spacing * i)\n",
    "        elif direction < 0:\n",
    "            newLine = fromPrice - (spacing * i)\n",
    "        grid.append(newLine)\n",
    "        i += 1\n",
    "    return grid\n",
    "\n",
    "grid = createGrid(1.500, 5, 0.0020, 1)\n",
    "print(grid)\n",
    "\n",
    "\n"
   ]
  },
  {
   "cell_type": "code",
   "execution_count": 32,
   "metadata": {},
   "outputs": [
    {
     "name": "stdout",
     "output_type": "stream",
     "text": [
      "2\n"
     ]
    }
   ],
   "source": [
    "def checkGrid(price):\n",
    "    lower = []\n",
    "    upper = []\n",
    "    for i in grid:\n",
    "        if price > i:\n",
    "            lower.append(i)\n",
    "        elif price < i:\n",
    "            upper.append(i)\n",
    "    lower = max(lower)\n",
    "    upper = min(upper)\n",
    "    upperIndex = grid.index(upper)\n",
    "    lowerIndex = grid.index(lower)\n",
    "    return lowerIndex, upperIndex\n",
    "\n",
    "result = checkGrid(1.5042)\n",
    "print(result[0])\n",
    "\n"
   ]
  },
  {
   "cell_type": "code",
   "execution_count": 36,
   "metadata": {},
   "outputs": [
    {
     "name": "stdout",
     "output_type": "stream",
     "text": [
      "(2, 3)\n"
     ]
    }
   ],
   "source": [
    "price = 1.5045\n",
    "\n",
    "print(checkGrid(price))"
   ]
  },
  {
   "cell_type": "code",
   "execution_count": 65,
   "metadata": {},
   "outputs": [
    {
     "name": "stdout",
     "output_type": "stream",
     "text": [
      "1.06\n",
      "None\n"
     ]
    }
   ],
   "source": [
    "# just check against list of open trades. 0.5 x gridSpacing on both sides.\n",
    "gridSpace = 0.0020\n",
    "openTrades = [1.0500, 1.0600, 1.0680]\n",
    "\n",
    "def checkEntries(price, openlist):\n",
    "    result = None\n",
    "    for i in range(len(openlist)):\n",
    "        if openlist[i] < (price + (0.5 * gridSpace)) and openlist[i] > (price - (0.5 * gridSpace)):\n",
    "            result = openlist[i]\n",
    "    return result\n",
    "\n",
    "\n",
    "print(checkEntries(1.0602, openTrades))\n",
    "openTrades.remove(1.06)\n",
    "print(checkEntries(1.0602, openTrades))\n"
   ]
  },
  {
   "cell_type": "code",
   "execution_count": 70,
   "metadata": {},
   "outputs": [
    {
     "name": "stdout",
     "output_type": "stream",
     "text": [
      "1780\n"
     ]
    }
   ],
   "source": [
    "#calculate unrealized P/L in pips\n",
    "gridSpace = 0.0020\n",
    "openTrades = [1.0500, 1.0600, 1.0680]\n",
    "\n",
    "def unrealizedPL(price, openlist, direction):\n",
    "    unrealized = 0\n",
    "    for i in range(len(openlist)):\n",
    "        if direction > 0:\n",
    "            unrealized += price - openlist[i]\n",
    "        elif direction < 0:\n",
    "            unrealized += openlist[i] - price\n",
    "    return round(unrealized * 10000)\n",
    "    \n",
    "print(unrealizedPL(1.0000, openTrades, -1))"
   ]
  },
  {
   "cell_type": "code",
   "execution_count": 12,
   "metadata": {},
   "outputs": [
    {
     "name": "stdout",
     "output_type": "stream",
     "text": [
      "1690.608344515603\n"
     ]
    }
   ],
   "source": [
    "print(50 ** 1.9)"
   ]
  },
  {
   "cell_type": "code",
   "execution_count": 14,
   "metadata": {},
   "outputs": [
    {
     "name": "stdout",
     "output_type": "stream",
     "text": [
      "JPY\n"
     ]
    }
   ],
   "source": [
    "symbol = \"GBPJPY\"\n",
    "last = symbol[3:]\n",
    "\n",
    "print(last)"
   ]
  },
  {
   "cell_type": "code",
   "execution_count": 3,
   "metadata": {},
   "outputs": [
    {
     "name": "stdout",
     "output_type": "stream",
     "text": [
      "15000.0\n"
     ]
    }
   ],
   "source": [
    "def convertPip(symbol, pips):\n",
    "    last = symbol[3:]\n",
    "    if last == \"JPY\":\n",
    "        converted = pips / 100\n",
    "    else:\n",
    "        converted = pips / 10000\n",
    "    return converted\n",
    "\n",
    "def toPips(symbol, price):\n",
    "    last = str(symbol)[3:]\n",
    "    if last in [\"JPY\", \"HUF\", \"INR\"]:\n",
    "        pips = price * 100\n",
    "    else:\n",
    "        pips = price * 10000\n",
    "    return pips\n",
    "\n",
    "print(toPips('EURUSD', 1.50))"
   ]
  },
  {
   "cell_type": "code",
   "execution_count": 47,
   "metadata": {},
   "outputs": [
    {
     "name": "stdout",
     "output_type": "stream",
     "text": [
      "2021-11-06\n",
      "2021-11-06\n",
      "match!\n"
     ]
    }
   ],
   "source": [
    "import datetime\n",
    "\n",
    "end = datetime.date(2021, 11, 6)\n",
    "x = datetime.date.today()\n",
    "print(x)\n",
    "print(end)\n",
    "\n",
    "if x == end: print('match!')"
   ]
  },
  {
   "cell_type": "code",
   "execution_count": 52,
   "metadata": {},
   "outputs": [
    {
     "name": "stdout",
     "output_type": "stream",
     "text": [
      "2021-11-06\n"
     ]
    }
   ],
   "source": [
    "from datetime import datetime\n",
    "\n",
    "timenow = datetime.now()\n",
    "date = datetime.date(timenow)\n",
    "\n",
    "print(date)"
   ]
  },
  {
   "cell_type": "code",
   "execution_count": 20,
   "metadata": {},
   "outputs": [
    {
     "name": "stdout",
     "output_type": "stream",
     "text": [
      "2021-11-25 15:26:09.133536\n",
      "True\n"
     ]
    }
   ],
   "source": [
    "from datetime import datetime, timedelta\n",
    "\n",
    "timenow = datetime.now()\n",
    "print(timenow)\n",
    "delta = timedelta(seconds = 10)\n",
    "\n",
    "try:\n",
    "    if (timenow - lastrun) < delta:\n",
    "        result = True\n",
    "    else:\n",
    "        result = False\n",
    "except:\n",
    "    result = False\n",
    "\n",
    "print(result)\n",
    "lastrun = timenow"
   ]
  },
  {
   "cell_type": "code",
   "execution_count": null,
   "metadata": {},
   "outputs": [],
   "source": [
    "# all oanda pairs\n",
    "pairs = ['AUDCAD', 'AUDCHF', 'AUDHKD', 'AUDJPY', 'AUDNZD', 'AUDSGD', 'AUDUSD', 'CADCHF', 'CADHKD', 'CADJPY', 'CADSGD', 'CHFHKD', 'CHFJPY', 'CHFZAR', 'EURAUD', 'EURCAD', 'EURCHF', 'EURCZK', 'EURDKK', 'EURGBP', 'EURHKD', 'EURHUF', 'EURJPY', 'EURNOK', 'EURNZD', 'EURPLN', 'EURSEK', 'EURSGD', 'EURTRY', 'EURUSD', 'EURZAR', 'GBPAUD', 'GBPCAD', 'GBPCHF', 'GBPHKD', 'GBPJPY', 'GBPNZD', 'GBPPLN', 'GBPSGD', 'GBPUSD', 'GBPZAR', 'HKDJPY', 'NZDCAD', 'NZDCHF', 'NZDHKD', 'NZDJPY', 'NZDSGD', 'NZDUSD', 'SGDCHF', 'SGDJPY', 'TRYJPY', 'USDCAD', 'USDCHF', 'USDCNH', 'USDCZK', 'USDDKK', 'USDHKD', 'USDHUF', 'USDINR', 'USDJPY', 'USDMXN', 'USDNOK', 'USDPLN', 'USDSEK', 'USDSGD', 'USDTHB', 'USDTRY', 'USDZAR', 'ZARJPY']\n",
    "\n",
    "# top 18 from 20-21, plus 'AUDNZD', 'EURPLN', 'USDCAD', 'EURNOK'\n",
    "pairs = ['GBPCAD', 'EURHKD', 'USDCZK', 'EURUSD', 'EURCHF', 'GBPSGD', 'GBPCHF', 'CADHKD', 'USDHUF', 'USDDKK', 'EURSEK', 'USDNOK', 'NZDSGD', 'GBPHKD', 'EURSGD', 'USDMXN', 'EURGBP', 'EURCZK', 'AUDNZD', 'EURPLN', 'USDCAD', 'EURNOK']"
   ]
  },
  {
   "cell_type": "code",
   "execution_count": 27,
   "metadata": {},
   "outputs": [
    {
     "name": "stdout",
     "output_type": "stream",
     "text": [
      "['EURSGD', 'GBPHKD', 'USDMXN', 'EURCHF', 'USDHUF']\n"
     ]
    }
   ],
   "source": [
    "# filter pairs list based on index\n",
    "pairs = ['GBPCAD', 'EURHKD', 'USDCZK', 'EURUSD', 'EURCHF', 'GBPSGD', 'GBPCHF', 'CADHKD', 'USDHUF', 'USDDKK', 'EURSEK', 'USDNOK', 'NZDSGD', 'GBPHKD', 'EURSGD', 'USDMXN', 'EURGBP', 'EURCZK', 'AUDNZD', 'EURPLN', 'USDCAD', 'EURNOK']\n",
    "filterindex = [14, 13, 15, 4, 8]\n",
    "newpairs = []\n",
    "\n",
    "for i in range(len(filterindex)):\n",
    "    pairnum = filterindex[i]\n",
    "    newpairs.append(pairs[pairnum])\n",
    "\n",
    "print(newpairs)"
   ]
  }
 ],
 "metadata": {
  "interpreter": {
   "hash": "dca0ade3e726a953b501b15e8e990130d2b7799f14cfd9f4271676035ebe5511"
  },
  "kernelspec": {
   "display_name": "Python 3.8.11 64-bit ('base': conda)",
   "name": "python3"
  },
  "language_info": {
   "codemirror_mode": {
    "name": "ipython",
    "version": 3
   },
   "file_extension": ".py",
   "mimetype": "text/x-python",
   "name": "python",
   "nbconvert_exporter": "python",
   "pygments_lexer": "ipython3",
   "version": "3.8.11"
  },
  "orig_nbformat": 4
 },
 "nbformat": 4,
 "nbformat_minor": 2
}
