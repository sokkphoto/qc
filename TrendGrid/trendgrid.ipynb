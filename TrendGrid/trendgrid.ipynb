{
 "cells": [
  {
   "cell_type": "code",
   "execution_count": 28,
   "source": [
    "grid2 = {1: 4.0, \n",
    "    2: 5.0,\n",
    "    3: 6.0}\n",
    "\n",
    "grid = [4, 5, 6]\n",
    "\n",
    "print(grid[1])\n",
    "\n",
    "price = 5.5\n",
    "\n",
    "print(max(grid))\n"
   ],
   "outputs": [
    {
     "output_type": "stream",
     "name": "stdout",
     "text": [
      "5\n",
      "6\n"
     ]
    }
   ],
   "metadata": {}
  },
  {
   "cell_type": "code",
   "execution_count": 31,
   "source": [
    "price = 1.5000\n",
    "\n",
    "def createGrid(fromPrice, lines, spacing, direction):\n",
    "    grid = []\n",
    "    i = 0\n",
    "    while i <= lines:\n",
    "        if direction > 0:\n",
    "            newLine = fromPrice + (spacing * i)\n",
    "        elif direction < 0:\n",
    "            newLine = fromPrice - (spacing * i)\n",
    "        grid.append(newLine)\n",
    "        i += 1\n",
    "    return grid\n",
    "\n",
    "grid = createGrid(1.500, 5, 0.0020, 1)\n",
    "print(grid)\n",
    "\n",
    "\n"
   ],
   "outputs": [
    {
     "output_type": "stream",
     "name": "stdout",
     "text": [
      "[1.5, 1.502, 1.504, 1.506, 1.508, 1.51]\n"
     ]
    }
   ],
   "metadata": {}
  },
  {
   "cell_type": "code",
   "execution_count": 32,
   "source": [
    "def checkGrid(price):\n",
    "    lower = []\n",
    "    upper = []\n",
    "    for i in grid:\n",
    "        if price > i:\n",
    "            lower.append(i)\n",
    "        elif price < i:\n",
    "            upper.append(i)\n",
    "    lower = max(lower)\n",
    "    upper = min(upper)\n",
    "    upperIndex = grid.index(upper)\n",
    "    lowerIndex = grid.index(lower)\n",
    "    return lowerIndex, upperIndex\n",
    "\n",
    "result = checkGrid(1.5042)\n",
    "print(result[0])\n",
    "\n"
   ],
   "outputs": [
    {
     "output_type": "stream",
     "name": "stdout",
     "text": [
      "2\n"
     ]
    }
   ],
   "metadata": {}
  },
  {
   "cell_type": "code",
   "execution_count": 36,
   "source": [
    "price = 1.5045\n",
    "\n",
    "print(checkGrid(price))"
   ],
   "outputs": [
    {
     "output_type": "stream",
     "name": "stdout",
     "text": [
      "(2, 3)\n"
     ]
    }
   ],
   "metadata": {}
  },
  {
   "cell_type": "code",
   "execution_count": 60,
   "source": [
    "# just check against list of open trades. 0.5 x gridSpacing on both sides.\n",
    "gridSpace = 0.0020\n",
    "openTrades = [1.0500, 1.0600, 1.0680]\n",
    "\n",
    "def checkEntries(price, openlist):\n",
    "    result = False\n",
    "    for i in range(len(openlist)):\n",
    "        print(openlist[i])\n",
    "        if openlist[i] < (price + (0.5 * gridSpace)) and openlist[i] > (price - (0.5 * gridSpace)):\n",
    "            result = True\n",
    "    return result\n",
    "\n",
    "\n",
    "print(checkEntries(1.0699, openTrades))\n",
    "\n"
   ],
   "outputs": [
    {
     "output_type": "stream",
     "name": "stdout",
     "text": [
      "1.05\n",
      "1.06\n",
      "1.068\n",
      "False\n"
     ]
    }
   ],
   "metadata": {}
  },
  {
   "cell_type": "code",
   "execution_count": null,
   "source": [
    "def deleteEntryListItem(price, openlist):\n",
    "    pass"
   ],
   "outputs": [],
   "metadata": {}
  }
 ],
 "metadata": {
  "orig_nbformat": 4,
  "language_info": {
   "name": "python",
   "version": "3.8.11",
   "mimetype": "text/x-python",
   "codemirror_mode": {
    "name": "ipython",
    "version": 3
   },
   "pygments_lexer": "ipython3",
   "nbconvert_exporter": "python",
   "file_extension": ".py"
  },
  "kernelspec": {
   "name": "python3",
   "display_name": "Python 3.8.11 64-bit ('base': conda)"
  },
  "interpreter": {
   "hash": "dca0ade3e726a953b501b15e8e990130d2b7799f14cfd9f4271676035ebe5511"
  }
 },
 "nbformat": 4,
 "nbformat_minor": 2
}