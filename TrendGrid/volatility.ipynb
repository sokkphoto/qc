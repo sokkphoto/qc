{
 "cells": [
  {
   "cell_type": "code",
   "execution_count": 16,
   "source": [
    "import pandas as pd\n",
    "\n",
    "data = {'Name':[],\n",
    "        'Age':[]}\n",
    "\n",
    "headers = ['symbol', 'min_long', 'max_long']\n",
    "df = pd.DataFrame()\n",
    "df = df.reindex(columns = headers)\n",
    "\n",
    "newrow = {'symbol': 'EURUSD', 'min_long': 3, 'max_long': 4}\n",
    "df = df.append(newrow, ignore_index=True)\n",
    "df.to_dict()\n"
   ],
   "outputs": [
    {
     "output_type": "execute_result",
     "data": {
      "text/plain": [
       "{'symbol': {0: 'EURUSD'}, 'min_long': {0: 3.0}, 'max_long': {0: 4.0}}"
      ]
     },
     "metadata": {},
     "execution_count": 16
    }
   ],
   "metadata": {}
  },
  {
   "cell_type": "code",
   "execution_count": 20,
   "source": [
    "result = {'symbol': {0: 'GBPJPY', 1: 'EURUSD'}, 'min_long': {0: 0.4417, 1: 0.5114}, 'max_long': {0: 2.1813, 1: 1.3382}, 'min_short': {0: 0.0421, 1: 0.0471}, 'max_short': {0: 1.1506, 1: 0.595}, 'avg_long': {0: 1.1929, 1: 0.7546}, 'avg_short': {0: 0.2908, 1: 0.1839}, 'long_short_ratio': {0: 4.1021, 1: 4.1033}}\n",
    "\n",
    "result = pd.DataFrame(result)\n",
    "result"
   ],
   "outputs": [
    {
     "output_type": "execute_result",
     "data": {
      "text/html": [
       "<div>\n",
       "<style scoped>\n",
       "    .dataframe tbody tr th:only-of-type {\n",
       "        vertical-align: middle;\n",
       "    }\n",
       "\n",
       "    .dataframe tbody tr th {\n",
       "        vertical-align: top;\n",
       "    }\n",
       "\n",
       "    .dataframe thead th {\n",
       "        text-align: right;\n",
       "    }\n",
       "</style>\n",
       "<table border=\"1\" class=\"dataframe\">\n",
       "  <thead>\n",
       "    <tr style=\"text-align: right;\">\n",
       "      <th></th>\n",
       "      <th>symbol</th>\n",
       "      <th>min_long</th>\n",
       "      <th>max_long</th>\n",
       "      <th>min_short</th>\n",
       "      <th>max_short</th>\n",
       "      <th>avg_long</th>\n",
       "      <th>avg_short</th>\n",
       "      <th>long_short_ratio</th>\n",
       "    </tr>\n",
       "  </thead>\n",
       "  <tbody>\n",
       "    <tr>\n",
       "      <th>0</th>\n",
       "      <td>GBPJPY</td>\n",
       "      <td>0.4417</td>\n",
       "      <td>2.1813</td>\n",
       "      <td>0.0421</td>\n",
       "      <td>1.1506</td>\n",
       "      <td>1.1929</td>\n",
       "      <td>0.2908</td>\n",
       "      <td>4.1021</td>\n",
       "    </tr>\n",
       "    <tr>\n",
       "      <th>1</th>\n",
       "      <td>EURUSD</td>\n",
       "      <td>0.5114</td>\n",
       "      <td>1.3382</td>\n",
       "      <td>0.0471</td>\n",
       "      <td>0.5950</td>\n",
       "      <td>0.7546</td>\n",
       "      <td>0.1839</td>\n",
       "      <td>4.1033</td>\n",
       "    </tr>\n",
       "  </tbody>\n",
       "</table>\n",
       "</div>"
      ],
      "text/plain": [
       "   symbol  min_long  max_long  min_short  max_short  avg_long  avg_short  \\\n",
       "0  GBPJPY    0.4417    2.1813     0.0421     1.1506    1.1929     0.2908   \n",
       "1  EURUSD    0.5114    1.3382     0.0471     0.5950    0.7546     0.1839   \n",
       "\n",
       "   long_short_ratio  \n",
       "0            4.1021  \n",
       "1            4.1033  "
      ]
     },
     "metadata": {},
     "execution_count": 20
    }
   ],
   "metadata": {}
  }
 ],
 "metadata": {
  "orig_nbformat": 4,
  "language_info": {
   "name": "python",
   "version": "3.8.11",
   "mimetype": "text/x-python",
   "codemirror_mode": {
    "name": "ipython",
    "version": 3
   },
   "pygments_lexer": "ipython3",
   "nbconvert_exporter": "python",
   "file_extension": ".py"
  },
  "kernelspec": {
   "name": "python3",
   "display_name": "Python 3.8.11 64-bit ('base': conda)"
  },
  "interpreter": {
   "hash": "dca0ade3e726a953b501b15e8e990130d2b7799f14cfd9f4271676035ebe5511"
  }
 },
 "nbformat": 4,
 "nbformat_minor": 2
}