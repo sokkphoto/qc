{
 "metadata": {
  "language_info": {
   "codemirror_mode": {
    "name": "ipython",
    "version": 3
   },
   "file_extension": ".py",
   "mimetype": "text/x-python",
   "name": "python",
   "nbconvert_exporter": "python",
   "pygments_lexer": "ipython3",
   "version": "3.8.10"
  },
  "orig_nbformat": 4,
  "kernelspec": {
   "name": "python3",
   "display_name": "Python 3.8.10 64-bit ('base': conda)"
  },
  "interpreter": {
   "hash": "dca0ade3e726a953b501b15e8e990130d2b7799f14cfd9f4271676035ebe5511"
  }
 },
 "nbformat": 4,
 "nbformat_minor": 2,
 "cells": [
  {
   "cell_type": "code",
   "execution_count": 2,
   "metadata": {},
   "outputs": [
    {
     "output_type": "stream",
     "name": "stdout",
     "text": [
      "-1000\n"
     ]
    }
   ],
   "source": [
    "ordersize = 1000\n",
    "short = int(- ordersize)\n",
    "print(short)"
   ]
  },
  {
   "cell_type": "code",
   "execution_count": 8,
   "metadata": {},
   "outputs": [
    {
     "output_type": "stream",
     "name": "stdout",
     "text": [
      "0.74729\n"
     ]
    }
   ],
   "source": [
    "slPips = 60\n",
    "price = 0.75329\n",
    "\n",
    "slprice = price - (slPips / 10000)\n",
    "print(slprice)"
   ]
  },
  {
   "cell_type": "code",
   "execution_count": 14,
   "metadata": {},
   "outputs": [
    {
     "output_type": "stream",
     "name": "stdout",
     "text": [
      "2\nasd123\n"
     ]
    }
   ],
   "source": [
    "# string to var name\n",
    "\n",
    "recNumber = \"asd\"\n",
    "globals()[recNumber] = 2\n",
    "print(asd)\n",
    "\n",
    "# var name to string\n",
    "x = str((f'{asd=}'.split('=')[0]) + \"123\")\n",
    "print(x)"
   ]
  },
  {
   "cell_type": "code",
   "execution_count": 38,
   "metadata": {},
   "outputs": [
    {
     "output_type": "stream",
     "name": "stdout",
     "text": [
      "3\n"
     ]
    }
   ],
   "source": [
    "\n",
    "\n",
    "def recTrade(recNum):\n",
    "    recTag = str(\"rec\" + (f'{recNum}'.split('=')[0]))\n",
    "    slRecTag = str(\"slRec\" + (f'{recNum}'.split('=')[0]))\n",
    "    tpRecTag = str(\"tpRec\" + (f'{recNum}'.split('=')[0]))\n",
    "\n",
    "    (globals()[recTag]) = 1\n",
    "    (globals()[slRecTag]) = 2\n",
    "    (globals()[tpRecTag]) = 3\n",
    "    return (globals()[recTag])\n",
    "\n",
    "recTrade(5)\n",
    "\n",
    "print(tpRec5)"
   ]
  },
  {
   "cell_type": "code",
   "execution_count": 23,
   "metadata": {},
   "outputs": [
    {
     "output_type": "stream",
     "name": "stdout",
     "text": [
      "2\n"
     ]
    },
    {
     "output_type": "execute_result",
     "data": {
      "text/plain": [
       "2"
      ]
     },
     "metadata": {},
     "execution_count": 23
    }
   ],
   "source": [
    "def rectest(vars):\n",
    "    print(vars)\n",
    "    return vars\n",
    "\n",
    "rectest(asd)"
   ]
  },
  {
   "cell_type": "code",
   "execution_count": null,
   "metadata": {},
   "outputs": [],
   "source": []
  }
 ]
}