{
 "cells": [
  {
   "cell_type": "code",
   "execution_count": 2,
   "metadata": {},
   "outputs": [
    {
     "name": "stdout",
     "output_type": "stream",
     "text": [
      "-1000\n"
     ]
    }
   ],
   "source": [
    "ordersize = 1000\n",
    "short = int(- ordersize)\n",
    "print(short)"
   ]
  },
  {
   "cell_type": "code",
   "execution_count": 8,
   "metadata": {},
   "outputs": [
    {
     "name": "stdout",
     "output_type": "stream",
     "text": [
      "0.74729\n"
     ]
    }
   ],
   "source": [
    "slPips = 60\n",
    "price = 0.75329\n",
    "\n",
    "slprice = price - (slPips / 10000)\n",
    "print(slprice)"
   ]
  },
  {
   "cell_type": "code",
   "execution_count": 14,
   "metadata": {},
   "outputs": [
    {
     "name": "stdout",
     "output_type": "stream",
     "text": [
      "2\n",
      "asd123\n"
     ]
    }
   ],
   "source": [
    "# string to var name\n",
    "\n",
    "recNumber = \"asd\"\n",
    "globals()[recNumber] = 2\n",
    "print(asd)\n",
    "\n",
    "# var name to string\n",
    "x = str((f'{asd=}'.split('=')[0]) + \"123\")\n",
    "print(x)"
   ]
  },
  {
   "cell_type": "code",
   "execution_count": 38,
   "metadata": {},
   "outputs": [
    {
     "name": "stdout",
     "output_type": "stream",
     "text": [
      "3\n"
     ]
    }
   ],
   "source": [
    "def recTrade(recNum):\n",
    "    recTag = str(\"rec\" + (f'{recNum}'.split('=')[0]))\n",
    "    slRecTag = str(\"slRec\" + (f'{recNum}'.split('=')[0]))\n",
    "    tpRecTag = str(\"tpRec\" + (f'{recNum}'.split('=')[0]))\n",
    "\n",
    "    (globals()[recTag]) = 1\n",
    "    (globals()[slRecTag]) = 2\n",
    "    (globals()[tpRecTag]) = 3\n",
    "    return (globals()[recTag])\n",
    "\n",
    "recTrade(5)\n",
    "\n",
    "print(tpRec5)"
   ]
  },
  {
   "cell_type": "code",
   "execution_count": 23,
   "metadata": {},
   "outputs": [
    {
     "name": "stdout",
     "output_type": "stream",
     "text": [
      "2\n"
     ]
    },
    {
     "data": {
      "text/plain": [
       "2"
      ]
     },
     "execution_count": 23,
     "metadata": {},
     "output_type": "execute_result"
    }
   ],
   "source": [
    "def rectest(vars):\n",
    "    print(vars)\n",
    "    return vars\n",
    "\n",
    "rectest(asd)"
   ]
  },
  {
   "cell_type": "code",
   "execution_count": 6,
   "metadata": {},
   "outputs": [
    {
     "name": "stdout",
     "output_type": "stream",
     "text": [
      "{'rec1': 'firsttrade', 'slRec1': 'sl', 'tpRec1': 'tp'}\n"
     ]
    }
   ],
   "source": [
    "\n",
    "def recTrade(recNum):\n",
    "    trades[str(\"rec\" + str(recNum))] = 'firsttrade'\n",
    "    trades[str(\"slRec\" + str(recNum))] = 'sl'\n",
    "    trades[str(\"tpRec\" + str(recNum))] = 'tp'\n",
    "    return\n",
    "\n",
    "recTrade(1)\n",
    "print(trades)"
   ]
  },
  {
   "cell_type": "code",
   "execution_count": 18,
   "metadata": {},
   "outputs": [
    {
     "name": "stdout",
     "output_type": "stream",
     "text": [
      "1\n"
     ]
    }
   ],
   "source": [
    "tag = 'MKT#1'\n",
    "num = tag.split('#', 1)[1:][0]\n",
    "print(num)"
   ]
  },
  {
   "cell_type": "code",
   "execution_count": 17,
   "metadata": {},
   "outputs": [
    {
     "name": "stdout",
     "output_type": "stream",
     "text": [
      "3\n"
     ]
    }
   ],
   "source": [
    "num = 2\n",
    "num += 1\n",
    "\n",
    "print(num)"
   ]
  },
  {
   "cell_type": "code",
   "execution_count": 8,
   "metadata": {},
   "outputs": [
    {
     "name": "stdout",
     "output_type": "stream",
     "text": [
      "20  44\n"
     ]
    }
   ],
   "source": [
    "emaSpeedFactor = 2.2\n",
    "\n",
    "emaFast = 9\n",
    "\n",
    "emaMid = round(emaFast * emaSpeedFactor)\n",
    "emaSlow = round(emaMid * emaSpeedFactor)\n",
    "\n",
    "print(str(emaMid) + '  ' + str(emaSlow))"
   ]
  },
  {
   "cell_type": "code",
   "execution_count": 6,
   "metadata": {},
   "outputs": [
    {
     "name": "stdout",
     "output_type": "stream",
     "text": [
      "10000.0\n"
     ]
    }
   ],
   "source": [
    "tradeNum = 1\n",
    "orderInc = 1.4\n",
    "orderSize = 10000\n",
    "\n",
    "position = orderSize * pow(orderInc, tradeNum - 1)\n",
    "print(str(position))"
   ]
  },
  {
   "cell_type": "code",
   "execution_count": 18,
   "metadata": {},
   "outputs": [
    {
     "name": "stdout",
     "output_type": "stream",
     "text": [
      "7\n"
     ]
    }
   ],
   "source": [
    "openOrders = [1, 2, 4]\n",
    "\n",
    "def posSize(orders):\n",
    "    pos = 0\n",
    "    for o in range(len(orders)):\n",
    "        pos += orders[o]\n",
    "    return pos\n",
    "\n",
    "print(posSize(openOrders))"
   ]
  },
  {
   "cell_type": "code",
   "execution_count": 30,
   "metadata": {},
   "outputs": [],
   "source": [
    "price = 1\n",
    "lower = -1\n",
    "ema = 0.5\n",
    "mid = 1\n",
    "priceLo = 0\n",
    "\n",
    "if price < ema:\n",
    "    pass\n",
    "elif (price > lower and price < mid and mid > ema and symData.bandPassedEntry == True) or (priceLo < lower and price > lower and mid > ema):\n",
    "    print('yup')"
   ]
  }
 ],
 "metadata": {
  "interpreter": {
   "hash": "dca0ade3e726a953b501b15e8e990130d2b7799f14cfd9f4271676035ebe5511"
  },
  "kernelspec": {
   "display_name": "Python 3.8.11 64-bit ('base': conda)",
   "name": "python3"
  },
  "language_info": {
   "codemirror_mode": {
    "name": "ipython",
    "version": 3
   },
   "file_extension": ".py",
   "mimetype": "text/x-python",
   "name": "python",
   "nbconvert_exporter": "python",
   "pygments_lexer": "ipython3",
   "version": "3.8.11"
  },
  "orig_nbformat": 4
 },
 "nbformat": 4,
 "nbformat_minor": 2
}
